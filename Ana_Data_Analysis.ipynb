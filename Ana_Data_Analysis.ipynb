{
 "cells": [
  {
   "cell_type": "markdown",
   "metadata": {},
   "source": [
    "# Work-Flow with Data_Analysis"
   ]
  },
  {
   "cell_type": "code",
   "execution_count": 1,
   "metadata": {},
   "outputs": [
    {
     "name": "stdout",
     "output_type": "stream",
     "text": [
      "                   Ticker       Date   Time   Open    High     Low   Close   \\\n",
      "0     NIFTY25JUN2010000PE  5/29/2020   9:15  653.15  662.10  649.90  662.10   \n",
      "1     NIFTY25JUN2010000PE  5/29/2020   9:16  662.10  662.10  643.35  650.00   \n",
      "2     NIFTY25JUN2010000PE  5/29/2020   9:17  650.00  656.00  650.00  650.00   \n",
      "3     NIFTY25JUN2010000PE  5/29/2020   9:18  650.00  650.00  640.00  645.50   \n",
      "4     NIFTY25JUN2010000PE  5/29/2020   9:19  645.50  645.50  645.00  645.00   \n",
      "...                   ...        ...    ...     ...     ...     ...     ...   \n",
      "7420  NIFTY25JUN2010000PE  6/25/2020  15:25    0.05    0.10    0.05    0.10   \n",
      "7421  NIFTY25JUN2010000PE  6/25/2020  15:26    0.10    0.10    0.05    0.05   \n",
      "7422  NIFTY25JUN2010000PE  6/25/2020  15:27    0.05    0.05    0.05    0.05   \n",
      "7423  NIFTY25JUN2010000PE  6/25/2020  15:28    0.05    0.05    0.05    0.05   \n",
      "7424  NIFTY25JUN2010000PE  6/25/2020  15:29    0.05    0.05    0.05    0.05   \n",
      "\n",
      "      Volume  \n",
      "0       1950  \n",
      "1       3825  \n",
      "2        450  \n",
      "3       1275  \n",
      "4        150  \n",
      "...      ...  \n",
      "7420   99975  \n",
      "7421   14925  \n",
      "7422    8175  \n",
      "7423    2625  \n",
      "7424    2550  \n",
      "\n",
      "[7425 rows x 8 columns]\n"
     ]
    }
   ],
   "source": [
    "import pandas as pd\n",
    "ana_data=pd.read_csv('ana_data.csv')\n",
    "print(ana_data)"
   ]
  },
  {
   "cell_type": "code",
   "execution_count": 2,
   "metadata": {},
   "outputs": [
    {
     "data": {
      "text/html": [
       "<div>\n",
       "<style scoped>\n",
       "    .dataframe tbody tr th:only-of-type {\n",
       "        vertical-align: middle;\n",
       "    }\n",
       "\n",
       "    .dataframe tbody tr th {\n",
       "        vertical-align: top;\n",
       "    }\n",
       "\n",
       "    .dataframe thead th {\n",
       "        text-align: right;\n",
       "    }\n",
       "</style>\n",
       "<table border=\"1\" class=\"dataframe\">\n",
       "  <thead>\n",
       "    <tr style=\"text-align: right;\">\n",
       "      <th></th>\n",
       "      <th>Ticker</th>\n",
       "      <th>Date</th>\n",
       "      <th>Time</th>\n",
       "      <th>Open</th>\n",
       "      <th>High</th>\n",
       "      <th>Low</th>\n",
       "      <th>Close</th>\n",
       "      <th>Volume</th>\n",
       "    </tr>\n",
       "  </thead>\n",
       "  <tbody>\n",
       "    <tr>\n",
       "      <td>0</td>\n",
       "      <td>NIFTY25JUN2010000PE</td>\n",
       "      <td>5/29/2020</td>\n",
       "      <td>9:15</td>\n",
       "      <td>653.15</td>\n",
       "      <td>662.1</td>\n",
       "      <td>649.90</td>\n",
       "      <td>662.1</td>\n",
       "      <td>1950</td>\n",
       "    </tr>\n",
       "    <tr>\n",
       "      <td>1</td>\n",
       "      <td>NIFTY25JUN2010000PE</td>\n",
       "      <td>5/29/2020</td>\n",
       "      <td>9:16</td>\n",
       "      <td>662.10</td>\n",
       "      <td>662.1</td>\n",
       "      <td>643.35</td>\n",
       "      <td>650.0</td>\n",
       "      <td>3825</td>\n",
       "    </tr>\n",
       "    <tr>\n",
       "      <td>2</td>\n",
       "      <td>NIFTY25JUN2010000PE</td>\n",
       "      <td>5/29/2020</td>\n",
       "      <td>9:17</td>\n",
       "      <td>650.00</td>\n",
       "      <td>656.0</td>\n",
       "      <td>650.00</td>\n",
       "      <td>650.0</td>\n",
       "      <td>450</td>\n",
       "    </tr>\n",
       "    <tr>\n",
       "      <td>3</td>\n",
       "      <td>NIFTY25JUN2010000PE</td>\n",
       "      <td>5/29/2020</td>\n",
       "      <td>9:18</td>\n",
       "      <td>650.00</td>\n",
       "      <td>650.0</td>\n",
       "      <td>640.00</td>\n",
       "      <td>645.5</td>\n",
       "      <td>1275</td>\n",
       "    </tr>\n",
       "    <tr>\n",
       "      <td>4</td>\n",
       "      <td>NIFTY25JUN2010000PE</td>\n",
       "      <td>5/29/2020</td>\n",
       "      <td>9:19</td>\n",
       "      <td>645.50</td>\n",
       "      <td>645.5</td>\n",
       "      <td>645.00</td>\n",
       "      <td>645.0</td>\n",
       "      <td>150</td>\n",
       "    </tr>\n",
       "  </tbody>\n",
       "</table>\n",
       "</div>"
      ],
      "text/plain": [
       "                Ticker       Date  Time   Open   High     Low   Close   Volume\n",
       "0  NIFTY25JUN2010000PE  5/29/2020  9:15  653.15  662.1  649.90   662.1    1950\n",
       "1  NIFTY25JUN2010000PE  5/29/2020  9:16  662.10  662.1  643.35   650.0    3825\n",
       "2  NIFTY25JUN2010000PE  5/29/2020  9:17  650.00  656.0  650.00   650.0     450\n",
       "3  NIFTY25JUN2010000PE  5/29/2020  9:18  650.00  650.0  640.00   645.5    1275\n",
       "4  NIFTY25JUN2010000PE  5/29/2020  9:19  645.50  645.5  645.00   645.0     150"
      ]
     },
     "execution_count": 2,
     "metadata": {},
     "output_type": "execute_result"
    }
   ],
   "source": [
    "ana_data.head()"
   ]
  },
  {
   "cell_type": "code",
   "execution_count": 3,
   "metadata": {},
   "outputs": [
    {
     "data": {
      "text/html": [
       "<div>\n",
       "<style scoped>\n",
       "    .dataframe tbody tr th:only-of-type {\n",
       "        vertical-align: middle;\n",
       "    }\n",
       "\n",
       "    .dataframe tbody tr th {\n",
       "        vertical-align: top;\n",
       "    }\n",
       "\n",
       "    .dataframe thead th {\n",
       "        text-align: right;\n",
       "    }\n",
       "</style>\n",
       "<table border=\"1\" class=\"dataframe\">\n",
       "  <thead>\n",
       "    <tr style=\"text-align: right;\">\n",
       "      <th></th>\n",
       "      <th>Ticker</th>\n",
       "      <th>Date</th>\n",
       "      <th>Time</th>\n",
       "      <th>Open</th>\n",
       "      <th>High</th>\n",
       "      <th>Low</th>\n",
       "      <th>Close</th>\n",
       "      <th>Volume</th>\n",
       "    </tr>\n",
       "  </thead>\n",
       "  <tbody>\n",
       "    <tr>\n",
       "      <td>7420</td>\n",
       "      <td>NIFTY25JUN2010000PE</td>\n",
       "      <td>6/25/2020</td>\n",
       "      <td>15:25</td>\n",
       "      <td>0.05</td>\n",
       "      <td>0.10</td>\n",
       "      <td>0.05</td>\n",
       "      <td>0.10</td>\n",
       "      <td>99975</td>\n",
       "    </tr>\n",
       "    <tr>\n",
       "      <td>7421</td>\n",
       "      <td>NIFTY25JUN2010000PE</td>\n",
       "      <td>6/25/2020</td>\n",
       "      <td>15:26</td>\n",
       "      <td>0.10</td>\n",
       "      <td>0.10</td>\n",
       "      <td>0.05</td>\n",
       "      <td>0.05</td>\n",
       "      <td>14925</td>\n",
       "    </tr>\n",
       "    <tr>\n",
       "      <td>7422</td>\n",
       "      <td>NIFTY25JUN2010000PE</td>\n",
       "      <td>6/25/2020</td>\n",
       "      <td>15:27</td>\n",
       "      <td>0.05</td>\n",
       "      <td>0.05</td>\n",
       "      <td>0.05</td>\n",
       "      <td>0.05</td>\n",
       "      <td>8175</td>\n",
       "    </tr>\n",
       "    <tr>\n",
       "      <td>7423</td>\n",
       "      <td>NIFTY25JUN2010000PE</td>\n",
       "      <td>6/25/2020</td>\n",
       "      <td>15:28</td>\n",
       "      <td>0.05</td>\n",
       "      <td>0.05</td>\n",
       "      <td>0.05</td>\n",
       "      <td>0.05</td>\n",
       "      <td>2625</td>\n",
       "    </tr>\n",
       "    <tr>\n",
       "      <td>7424</td>\n",
       "      <td>NIFTY25JUN2010000PE</td>\n",
       "      <td>6/25/2020</td>\n",
       "      <td>15:29</td>\n",
       "      <td>0.05</td>\n",
       "      <td>0.05</td>\n",
       "      <td>0.05</td>\n",
       "      <td>0.05</td>\n",
       "      <td>2550</td>\n",
       "    </tr>\n",
       "  </tbody>\n",
       "</table>\n",
       "</div>"
      ],
      "text/plain": [
       "                   Ticker       Date   Time  Open   High   Low   Close   \\\n",
       "7420  NIFTY25JUN2010000PE  6/25/2020  15:25   0.05   0.10  0.05    0.10   \n",
       "7421  NIFTY25JUN2010000PE  6/25/2020  15:26   0.10   0.10  0.05    0.05   \n",
       "7422  NIFTY25JUN2010000PE  6/25/2020  15:27   0.05   0.05  0.05    0.05   \n",
       "7423  NIFTY25JUN2010000PE  6/25/2020  15:28   0.05   0.05  0.05    0.05   \n",
       "7424  NIFTY25JUN2010000PE  6/25/2020  15:29   0.05   0.05  0.05    0.05   \n",
       "\n",
       "      Volume  \n",
       "7420   99975  \n",
       "7421   14925  \n",
       "7422    8175  \n",
       "7423    2625  \n",
       "7424    2550  "
      ]
     },
     "execution_count": 3,
     "metadata": {},
     "output_type": "execute_result"
    }
   ],
   "source": [
    "ana_data.tail()"
   ]
  },
  {
   "cell_type": "code",
   "execution_count": 4,
   "metadata": {},
   "outputs": [
    {
     "data": {
      "text/html": [
       "<div>\n",
       "<style scoped>\n",
       "    .dataframe tbody tr th:only-of-type {\n",
       "        vertical-align: middle;\n",
       "    }\n",
       "\n",
       "    .dataframe tbody tr th {\n",
       "        vertical-align: top;\n",
       "    }\n",
       "\n",
       "    .dataframe thead th {\n",
       "        text-align: right;\n",
       "    }\n",
       "</style>\n",
       "<table border=\"1\" class=\"dataframe\">\n",
       "  <thead>\n",
       "    <tr style=\"text-align: right;\">\n",
       "      <th></th>\n",
       "      <th>Open</th>\n",
       "      <th>High</th>\n",
       "      <th>Low</th>\n",
       "      <th>Close</th>\n",
       "      <th>Volume</th>\n",
       "    </tr>\n",
       "  </thead>\n",
       "  <tbody>\n",
       "    <tr>\n",
       "      <td>count</td>\n",
       "      <td>7425.000000</td>\n",
       "      <td>7425.000000</td>\n",
       "      <td>7425.000000</td>\n",
       "      <td>7425.000000</td>\n",
       "      <td>7425.000000</td>\n",
       "    </tr>\n",
       "    <tr>\n",
       "      <td>mean</td>\n",
       "      <td>214.849973</td>\n",
       "      <td>216.646660</td>\n",
       "      <td>212.922370</td>\n",
       "      <td>214.780613</td>\n",
       "      <td>31766.848485</td>\n",
       "    </tr>\n",
       "    <tr>\n",
       "      <td>std</td>\n",
       "      <td>144.561742</td>\n",
       "      <td>145.310728</td>\n",
       "      <td>143.752045</td>\n",
       "      <td>144.505069</td>\n",
       "      <td>50256.499907</td>\n",
       "    </tr>\n",
       "    <tr>\n",
       "      <td>min</td>\n",
       "      <td>0.050000</td>\n",
       "      <td>0.050000</td>\n",
       "      <td>0.050000</td>\n",
       "      <td>0.050000</td>\n",
       "      <td>75.000000</td>\n",
       "    </tr>\n",
       "    <tr>\n",
       "      <td>25%</td>\n",
       "      <td>125.950000</td>\n",
       "      <td>128.400000</td>\n",
       "      <td>123.100000</td>\n",
       "      <td>125.400000</td>\n",
       "      <td>4350.000000</td>\n",
       "    </tr>\n",
       "    <tr>\n",
       "      <td>50%</td>\n",
       "      <td>217.400000</td>\n",
       "      <td>219.000000</td>\n",
       "      <td>215.650000</td>\n",
       "      <td>217.350000</td>\n",
       "      <td>11025.000000</td>\n",
       "    </tr>\n",
       "    <tr>\n",
       "      <td>75%</td>\n",
       "      <td>288.050000</td>\n",
       "      <td>290.350000</td>\n",
       "      <td>285.050000</td>\n",
       "      <td>287.800000</td>\n",
       "      <td>37800.000000</td>\n",
       "    </tr>\n",
       "    <tr>\n",
       "      <td>max</td>\n",
       "      <td>684.650000</td>\n",
       "      <td>689.000000</td>\n",
       "      <td>680.000000</td>\n",
       "      <td>684.650000</td>\n",
       "      <td>929850.000000</td>\n",
       "    </tr>\n",
       "  </tbody>\n",
       "</table>\n",
       "</div>"
      ],
      "text/plain": [
       "             Open         High          Low        Close          Volume\n",
       "count  7425.000000  7425.000000  7425.000000  7425.000000    7425.000000\n",
       "mean    214.849973   216.646660   212.922370   214.780613   31766.848485\n",
       "std     144.561742   145.310728   143.752045   144.505069   50256.499907\n",
       "min       0.050000     0.050000     0.050000     0.050000      75.000000\n",
       "25%     125.950000   128.400000   123.100000   125.400000    4350.000000\n",
       "50%     217.400000   219.000000   215.650000   217.350000   11025.000000\n",
       "75%     288.050000   290.350000   285.050000   287.800000   37800.000000\n",
       "max     684.650000   689.000000   680.000000   684.650000  929850.000000"
      ]
     },
     "execution_count": 4,
     "metadata": {},
     "output_type": "execute_result"
    }
   ],
   "source": [
    "ana_data.describe()"
   ]
  },
  {
   "cell_type": "code",
   "execution_count": null,
   "metadata": {},
   "outputs": [],
   "source": [
    "# Here in describe() function show that all data\n",
    "\n",
    "# count all columns\n",
    "\n",
    "# mean value of all columns"
   ]
  },
  {
   "cell_type": "code",
   "execution_count": 6,
   "metadata": {},
   "outputs": [
    {
     "name": "stdout",
     "output_type": "stream",
     "text": [
      "(7425, 8)\n"
     ]
    }
   ],
   "source": [
    "print(ana_data.shape) #shows that total number of columns and rows."
   ]
  },
  {
   "cell_type": "code",
   "execution_count": 7,
   "metadata": {},
   "outputs": [
    {
     "name": "stdout",
     "output_type": "stream",
     "text": [
      "Volume\n",
      "75        52\n",
      "150       40\n",
      "225       38\n",
      "300       32\n",
      "375       33\n",
      "          ..\n",
      "478050     1\n",
      "481425     1\n",
      "556425     1\n",
      "593700     1\n",
      "929850     1\n",
      "Length: 1676, dtype: int64\n"
     ]
    }
   ],
   "source": [
    "print(ana_data.groupby('Volume').size())"
   ]
  },
  {
   "cell_type": "code",
   "execution_count": 8,
   "metadata": {},
   "outputs": [],
   "source": [
    "from pandas.plotting import scatter_matrix\n",
    "import matplotlib.pyplot as plt\n",
    "from sklearn.metrics import classification_report\n",
    "from sklearn.metrics import confusion_matrix\n",
    "from sklearn.metrics import accuracy_score\n",
    "from sklearn.linear_model import LogisticRegression\n",
    "from sklearn.tree import DecisionTreeClassifier\n",
    "from sklearn.neighbors import KNeighborsClassifier\n",
    "from sklearn.discriminant_analysis import LinearDiscriminantAnalysis\n",
    "from sklearn.naive_bayes import GaussianNB\n",
    "from sklearn.svm import SVC\n",
    "from sklearn import model_selection"
   ]
  },
  {
   "cell_type": "code",
   "execution_count": 11,
   "metadata": {},
   "outputs": [
    {
     "data": {
      "image/png": "[encoded data removed]",
      "text/plain": [
       "<Figure size 432x288 with 6 Axes>"
      ]
     },
     "metadata": {
      "needs_background": "light"
     },
     "output_type": "display_data"
    }
   ],
   "source": [
    "ana_data.hist()\n",
    "plt.show()"
   ]
  },
  {
   "cell_type": "code",
   "execution_count": 12,
   "metadata": {},
   "outputs": [
    {
     "data": {
      "image/png": "[encoded data removed]",
      "text/plain": [
       "<Figure size 432x288 with 25 Axes>"
      ]
     },
     "metadata": {
      "needs_background": "light"
     },
     "output_type": "display_data"
    }
   ],
   "source": [
    "#Multi-weighted plot\n",
    "scatter_matrix(ana_data)\n",
    "plt.show()"
   ]
  }
 ],
 "metadata": {
  "kernelspec": {
   "display_name": "Python 3",
   "language": "python",
   "name": "python3"
  },
  "language_info": {
   "codemirror_mode": {
    "name": "ipython",
    "version": 3
   },
   "file_extension": ".py",
   "mimetype": "text/x-python",
   "name": "python",
   "nbconvert_exporter": "python",
   "pygments_lexer": "ipython3",
   "version": "3.7.4"
  }
 },
 "nbformat": 4,
 "nbformat_minor": 2
}
