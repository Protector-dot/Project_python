{
 "cells": [
  {
   "cell_type": "code",
   "execution_count": 2,
   "metadata": {},
   "outputs": [
    {
     "name": "stdout",
     "output_type": "stream",
     "text": [
      "City Name :Kolkata\n",
      "moderate rain\n"
     ]
    }
   ],
   "source": [
    "import requests\n",
    "api_address='http://api.openweathermap.org/data/2.5/weather?appid=bca95e73532812b9dc74c47fe9e0e4c2&q='\n",
    "city = input(\"City Name :\")\n",
    "url = api_address + city\n",
    "json_data = requests.get(url).json()\n",
    "formatted_data = json_data['weather'][0]['description']\n",
    "print(formatted_data)"
   ]
  },
  {
   "cell_type": "code",
   "execution_count": 3,
   "metadata": {},
   "outputs": [
    {
     "name": "stdout",
     "output_type": "stream",
     "text": [
      "City Name:Kolkata\n",
      "{'coord': {'lon': 88.37, 'lat': 22.57}, 'weather': [{'id': 501, 'main': 'Rain', 'description': 'moderate rain', 'icon': '10d'}, {'id': 721, 'main': 'Haze', 'description': 'haze', 'icon': '50d'}], 'base': 'stations', 'main': {'temp': 308.15, 'feels_like': 315.45, 'temp_min': 308.15, 'temp_max': 308.15, 'pressure': 1002, 'humidity': 71}, 'visibility': 3800, 'wind': {'speed': 2.6, 'deg': 340}, 'rain': {'1h': 2.05}, 'clouds': {'all': 75}, 'dt': 1598866807, 'sys': {'type': 1, 'id': 9114, 'country': 'IN', 'sunrise': 1598831342, 'sunset': 1598876702}, 'timezone': 19800, 'id': 1275004, 'name': 'Kolkata', 'cod': 200}\n"
     ]
    }
   ],
   "source": [
    "import requests\n",
    "api_address='http://api.openweathermap.org/data/2.5/weather?appid=bca95e73532812b9dc74c47fe9e0e4c2&q='\n",
    "city = input(\"City Name:\")\n",
    "url = api_address + city\n",
    "json_data = requests.get(url).json()\n",
    "print(json_data)"
   ]
  },
  {
   "cell_type": "code",
   "execution_count": 15,
   "metadata": {},
   "outputs": [
    {
     "name": "stdout",
     "output_type": "stream",
     "text": [
      "City Name:Mumbai\n",
      "{'coord': {'lon': 72.85, 'lat': 19.01}, 'weather': [{'id': 721, 'main': 'Haze', 'description': 'haze', 'icon': '50d'}], 'base': 'stations', 'main': {'temp': 301.15, 'feels_like': 302.86, 'temp_min': 301.15, 'temp_max': 301.15, 'pressure': 1008, 'humidity': 78}, 'visibility': 2500, 'wind': {'speed': 5.7, 'deg': 230}, 'clouds': {'all': 75}, 'dt': 1598869194, 'sys': {'type': 1, 'id': 9052, 'country': 'IN', 'sunrise': 1598835220, 'sunset': 1598880272}, 'timezone': 19800, 'id': 1275339, 'name': 'Mumbai', 'cod': 200}\n"
     ]
    }
   ],
   "source": [
    "import requests\n",
    "api_address='http://api.openweathermap.org/data/2.5/weather?appid=bca95e73532812b9dc74c47fe9e0e4c2&q='\n",
    "city = input(\"City Name:\")\n",
    "url = api_address + city\n",
    "json_data = requests.get(url).json()\n",
    "print(json_data)"
   ]
  },
  {
   "cell_type": "code",
   "execution_count": 16,
   "metadata": {},
   "outputs": [
    {
     "name": "stdout",
     "output_type": "stream",
     "text": [
      "City Name:Bangalore\n",
      "{'coord': {'lon': 77.6, 'lat': 12.98}, 'weather': [{'id': 802, 'main': 'Clouds', 'description': 'scattered clouds', 'icon': '03d'}], 'base': 'stations', 'main': {'temp': 302.72, 'feels_like': 304.45, 'temp_min': 302.04, 'temp_max': 303.71, 'pressure': 1011, 'humidity': 58}, 'visibility': 8000, 'wind': {'speed': 3.1, 'deg': 260}, 'clouds': {'all': 40}, 'dt': 1598869311, 'sys': {'type': 1, 'id': 9205, 'country': 'IN', 'sunrise': 1598834323, 'sunset': 1598878890}, 'timezone': 19800, 'id': 1277333, 'name': 'Bengaluru', 'cod': 200}\n"
     ]
    }
   ],
   "source": [
    "import requests\n",
    "api_address='http://api.openweathermap.org/data/2.5/weather?appid=bca95e73532812b9dc74c47fe9e0e4c2&q='\n",
    "city = input(\"City Name:\")\n",
    "url = api_address + city\n",
    "json_data = requests.get(url).json()\n",
    "print(json_data)"
   ]
  },
  {
   "cell_type": "code",
   "execution_count": 21,
   "metadata": {},
   "outputs": [
    {
     "name": "stderr",
     "output_type": "stream",
     "text": [
      "C:\\Users\\me\\Anaconda3\\lib\\site-packages\\ipykernel_launcher.py:13: DeprecationWarning: Call to deprecated function get_sheet_by_name (Use wb[sheetname]).\n",
      "  del sys.path[0]\n"
     ]
    }
   ],
   "source": [
    "from openpyxl import Workbook\n",
    "wb=Workbook()\n",
    "Sheet=wb.active\n",
    "wb.create_sheet(\"citynames\")\n",
    "data=[\n",
    "       (\"City_Name\",\"Temprature\",\"C/F\",\"0/1\"),\n",
    "       (\"Kolkata\",\"308.15\",\"C\",\"0\"),\n",
    "       (\"Mumbai\",\"301.15\",\"C\",\"1\"),\n",
    "       (\"Bangalore\",\"302.72\",\"C\",\"0\"),\n",
    "    ]\n",
    "for row in data:\n",
    "    Sheet.append(row)\n",
    "Sheet2=wb.get_sheet_by_name(\"citynames\")\n",
    "Sheet.append([\"City_Name\"])\n",
    "wb.save(\"project.xlsx\")\n"
   ]
  },
  {
   "cell_type": "code",
   "execution_count": null,
   "metadata": {},
   "outputs": [],
   "source": []
  }
 ],
 "metadata": {
  "kernelspec": {
   "display_name": "Python 3",
   "language": "python",
   "name": "python3"
  },
  "language_info": {
   "codemirror_mode": {
    "name": "ipython",
    "version": 3
   },
   "file_extension": ".py",
   "mimetype": "text/x-python",
   "name": "python",
   "nbconvert_exporter": "python",
   "pygments_lexer": "ipython3",
   "version": "3.7.4"
  }
 },
 "nbformat": 4,
 "nbformat_minor": 2
}
